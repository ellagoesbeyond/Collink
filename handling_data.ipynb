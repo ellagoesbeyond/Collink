{
 "cells": [
  {
   "cell_type": "code",
   "execution_count": 1,
   "id": "d916ac0a",
   "metadata": {},
   "outputs": [],
   "source": [
    "import face_recognition\n",
    "import cv2\n",
    "import pickle\n",
    "import os\n",
    "import fnmatch\n",
    "\n",
    "def encode_people_images():\n",
    "    PATH = '/Users/elisabethoeljeklaus/GitHub/face_rec_LinkedIN/pics/people'\n",
    "    known_face_encodings = []\n",
    "    known_face_names = []\n",
    "\n",
    "    # iterate over files in\n",
    "    # that directory\n",
    "    for filename in os.listdir(PATH):\n",
    "        f = os.path.join(PATH, filename)\n",
    "    \n",
    "        if fnmatch.fnmatch (f, '*.jpg'):\n",
    "        \n",
    "        #adding the persons name to list\n",
    "            name = os.path.splitext(filename)\n",
    "            known_face_names.append(name[0])\n",
    "\n",
    "            img=face_recognition.load_image_file(f)\n",
    "\n",
    "            item=face_recognition.face_encodings(img)[0]\n",
    "            known_face_encodings.append(item)\n",
    "    return known_face_encodings, known_face_names\n",
    "\n",
    "known_face_encodings,known_face_names =encode_people_images()\n",
    "\n",
    "with open(\"get_known_people_encodings.pickle\", \"wb\") as f:\n",
    "    pickle.dump([known_face_encodings,known_face_names],f)"
   ]
  },
  {
   "cell_type": "code",
   "execution_count": null,
   "id": "b528a825",
   "metadata": {},
   "outputs": [],
   "source": []
  }
 ],
 "metadata": {
  "kernelspec": {
   "display_name": "Python 3 (ipykernel)",
   "language": "python",
   "name": "python3"
  },
  "language_info": {
   "codemirror_mode": {
    "name": "ipython",
    "version": 3
   },
   "file_extension": ".py",
   "mimetype": "text/x-python",
   "name": "python",
   "nbconvert_exporter": "python",
   "pygments_lexer": "ipython3",
   "version": "3.9.12"
  },
  "toc": {
   "base_numbering": 1,
   "nav_menu": {},
   "number_sections": true,
   "sideBar": true,
   "skip_h1_title": false,
   "title_cell": "Table of Contents",
   "title_sidebar": "Contents",
   "toc_cell": false,
   "toc_position": {},
   "toc_section_display": true,
   "toc_window_display": false
  }
 },
 "nbformat": 4,
 "nbformat_minor": 5
}
